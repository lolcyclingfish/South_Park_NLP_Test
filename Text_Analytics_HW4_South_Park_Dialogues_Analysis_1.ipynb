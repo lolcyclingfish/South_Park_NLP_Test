{
 "cells": [
  {
   "cell_type": "markdown",
   "metadata": {},
   "source": [
    "# Plan:\n",
    "\n",
    "#### 1.) Top Closest Friends in South Park: bigram analysis of character string in conversations for each season\n",
    "\n",
    "#### 2.) Charaters with Biggest Vocabulary: distinct word count for each character for each season\n",
    "\n",
    "#### 3.) Kevin's Destiny Over Seasons: string matching to count how many times Kevin died in each season\n",
    "\n",
    "#### 4.) Most Popular Topics in South Park: topic model for each episode of each season\n",
    "\n",
    "\n",
    "There are no restrictions on or requirements for what you might want to analyze. To help get you started thinking, a few ideas include:\n",
    "\n",
    "- What are the topics of the script? You could make a break down by character. Do these topics evolve over time (e.g., by act)?\n",
    "- Who talks (spends time) with whom? Does it change over time? Which fraction of the talk does each speaker contribute?\n",
    "- What is the mood of each speaker (e.g., the average sentiment of the words they utter)? Does it change over time? Does it depend on who they are talking to or who or what they are talking about?\n",
    "- Who or what does each speaker talk about? What is the sentiment of the speaker about each entity (i.e., what is the sentiment of the words that appear near them in the dialogue?). You will probably want to do coreference resolution (to identify what pronouns matches what noun) when identifying who talks about what or whom. In dialogs, participants agree about the antecedents of pronouns, so you may want to process consecutive utterances from the various dialogue participants as a single unit of text for the purpose of coreference resolution.\n",
    "- What are the Named Entities (e.g., people, places, organizations) that appear in your script? Are there any generalizations about when or where they appear?\n",
    "- What are the similarities between the characters in the script (e.g., defined in terms of vector similarity between each character’s ‘corpus’? Which characters are the most and least similar to each other, and do these results have an intuitive explanation?\n"
   ]
  },
  {
   "cell_type": "code",
   "execution_count": 100,
   "metadata": {
    "collapsed": true
   },
   "outputs": [],
   "source": [
    "import numpy as np\n",
    "import pandas as pd\n",
    "import matplotlib.pyplot as plt\n",
    "#enable IPython to display matplotlib graphs\n",
    "%matplotlib inline\n",
    "import csv"
   ]
  },
  {
   "cell_type": "code",
   "execution_count": 101,
   "metadata": {
    "collapsed": false
   },
   "outputs": [
    {
     "data": {
      "text/plain": [
       "(70896, 5)"
      ]
     },
     "execution_count": 101,
     "metadata": {},
     "output_type": "execute_result"
    }
   ],
   "source": [
    "#read in data\n",
    "data=pd.read_csv('South_Park_Dialogues_Parsed.csv')\n",
    "data.head(10)\n",
    "data.shape"
   ]
  },
  {
   "cell_type": "code",
   "execution_count": 102,
   "metadata": {
    "collapsed": false
   },
   "outputs": [
    {
     "data": {
      "text/html": [
       "<div>\n",
       "<style scoped>\n",
       "    .dataframe tbody tr th:only-of-type {\n",
       "        vertical-align: middle;\n",
       "    }\n",
       "\n",
       "    .dataframe tbody tr th {\n",
       "        vertical-align: top;\n",
       "    }\n",
       "\n",
       "    .dataframe thead th {\n",
       "        text-align: right;\n",
       "    }\n",
       "</style>\n",
       "<table border=\"1\" class=\"dataframe\">\n",
       "  <thead>\n",
       "    <tr style=\"text-align: right;\">\n",
       "      <th></th>\n",
       "      <th>Season</th>\n",
       "      <th>Episode</th>\n",
       "      <th>Character</th>\n",
       "      <th>Line</th>\n",
       "      <th>parsed_Line</th>\n",
       "    </tr>\n",
       "  </thead>\n",
       "  <tbody>\n",
       "    <tr>\n",
       "      <th>0</th>\n",
       "      <td>10</td>\n",
       "      <td>1</td>\n",
       "      <td>Stan</td>\n",
       "      <td>You guys, you guys! Chef is going away. \\r\\n</td>\n",
       "      <td>['guy', 'guy', 'chef', 'go', 'away']</td>\n",
       "    </tr>\n",
       "    <tr>\n",
       "      <th>1</th>\n",
       "      <td>10</td>\n",
       "      <td>1</td>\n",
       "      <td>Kyle</td>\n",
       "      <td>Going away? For how long?\\r\\n</td>\n",
       "      <td>['go', 'away', 'long']</td>\n",
       "    </tr>\n",
       "    <tr>\n",
       "      <th>2</th>\n",
       "      <td>10</td>\n",
       "      <td>1</td>\n",
       "      <td>Stan</td>\n",
       "      <td>Forever.\\r\\n</td>\n",
       "      <td>['forever']</td>\n",
       "    </tr>\n",
       "    <tr>\n",
       "      <th>3</th>\n",
       "      <td>10</td>\n",
       "      <td>1</td>\n",
       "      <td>Chef</td>\n",
       "      <td>I'm sorry boys.\\r\\n</td>\n",
       "      <td>['sorry', 'boy']</td>\n",
       "    </tr>\n",
       "    <tr>\n",
       "      <th>4</th>\n",
       "      <td>10</td>\n",
       "      <td>1</td>\n",
       "      <td>Stan</td>\n",
       "      <td>Chef said he's been bored, so he joining a gro...</td>\n",
       "      <td>['chef', 'say', 'bore', 'join', 'group', 'call...</td>\n",
       "    </tr>\n",
       "    <tr>\n",
       "      <th>5</th>\n",
       "      <td>10</td>\n",
       "      <td>1</td>\n",
       "      <td>Chef</td>\n",
       "      <td>Wow!\\r\\n</td>\n",
       "      <td>['wow']</td>\n",
       "    </tr>\n",
       "    <tr>\n",
       "      <th>6</th>\n",
       "      <td>10</td>\n",
       "      <td>1</td>\n",
       "      <td>Mrs. Garrison</td>\n",
       "      <td>Chef?? What kind of questions do you think adv...</td>\n",
       "      <td>['chef', 'kind', 'question', 'think', 'adventu...</td>\n",
       "    </tr>\n",
       "    <tr>\n",
       "      <th>7</th>\n",
       "      <td>10</td>\n",
       "      <td>1</td>\n",
       "      <td>Chef</td>\n",
       "      <td>What's the meaning of life? Why are we here?\\r\\n</td>\n",
       "      <td>['meaning', 'life']</td>\n",
       "    </tr>\n",
       "    <tr>\n",
       "      <th>8</th>\n",
       "      <td>10</td>\n",
       "      <td>1</td>\n",
       "      <td>Mrs. Garrison</td>\n",
       "      <td>I hope you're making the right choice.\\r\\n</td>\n",
       "      <td>['hope', 'make', 'right', 'choice']</td>\n",
       "    </tr>\n",
       "    <tr>\n",
       "      <th>9</th>\n",
       "      <td>10</td>\n",
       "      <td>1</td>\n",
       "      <td>Cartman</td>\n",
       "      <td>I'm gonna miss him.  I'm gonna miss Chef and I...</td>\n",
       "      <td>['gon', 'na', 'miss', 'gon', 'na', 'miss', 'ch...</td>\n",
       "    </tr>\n",
       "  </tbody>\n",
       "</table>\n",
       "</div>"
      ],
      "text/plain": [
       "  Season Episode      Character  \\\n",
       "0     10       1           Stan   \n",
       "1     10       1           Kyle   \n",
       "2     10       1           Stan   \n",
       "3     10       1           Chef   \n",
       "4     10       1           Stan   \n",
       "5     10       1           Chef   \n",
       "6     10       1  Mrs. Garrison   \n",
       "7     10       1           Chef   \n",
       "8     10       1  Mrs. Garrison   \n",
       "9     10       1        Cartman   \n",
       "\n",
       "                                                Line  \\\n",
       "0       You guys, you guys! Chef is going away. \\r\\n   \n",
       "1                      Going away? For how long?\\r\\n   \n",
       "2                                       Forever.\\r\\n   \n",
       "3                                I'm sorry boys.\\r\\n   \n",
       "4  Chef said he's been bored, so he joining a gro...   \n",
       "5                                           Wow!\\r\\n   \n",
       "6  Chef?? What kind of questions do you think adv...   \n",
       "7   What's the meaning of life? Why are we here?\\r\\n   \n",
       "8         I hope you're making the right choice.\\r\\n   \n",
       "9  I'm gonna miss him.  I'm gonna miss Chef and I...   \n",
       "\n",
       "                                         parsed_Line  \n",
       "0               ['guy', 'guy', 'chef', 'go', 'away']  \n",
       "1                             ['go', 'away', 'long']  \n",
       "2                                        ['forever']  \n",
       "3                                   ['sorry', 'boy']  \n",
       "4  ['chef', 'say', 'bore', 'join', 'group', 'call...  \n",
       "5                                            ['wow']  \n",
       "6  ['chef', 'kind', 'question', 'think', 'adventu...  \n",
       "7                                ['meaning', 'life']  \n",
       "8                ['hope', 'make', 'right', 'choice']  \n",
       "9  ['gon', 'na', 'miss', 'gon', 'na', 'miss', 'ch...  "
      ]
     },
     "execution_count": 102,
     "metadata": {},
     "output_type": "execute_result"
    }
   ],
   "source": [
    "data.head(10)"
   ]
  },
  {
   "cell_type": "code",
   "execution_count": 103,
   "metadata": {
    "collapsed": false
   },
   "outputs": [
    {
     "data": {
      "text/plain": [
       "2     6416\n",
       "3     5798\n",
       "4     5680\n",
       "6     5131\n",
       "5     4414\n",
       "7     4236\n",
       "1     4170\n",
       "8     3601\n",
       "9     3526\n",
       "11    3478\n",
       "10    3471\n",
       "14    3346\n",
       "12    3307\n",
       "13    3257\n",
       "16    3120\n",
       "15    3101\n",
       "18    2522\n",
       "17    2305\n",
       "Name: Season, dtype: int64"
      ]
     },
     "execution_count": 103,
     "metadata": {},
     "output_type": "execute_result"
    }
   ],
   "source": [
    "#correct anomaly in data:\n",
    "data['Season'].value_counts() #abnomal level 'Season' we remove it from data:\n",
    "data=data[data['Season']!='Season']\n",
    "data['Season'].value_counts() "
   ]
  },
  {
   "cell_type": "markdown",
   "metadata": {},
   "source": [
    "## 1. Closest Friends in South Park: Bigram Analysis"
   ]
  },
  {
   "cell_type": "code",
   "execution_count": 104,
   "metadata": {
    "collapsed": false
   },
   "outputs": [],
   "source": [
    "#prepare character corpus by appending text in 'Character' column into list for each season:\n",
    "seasons= data['Season'].value_counts().index.tolist()\n",
    "character_corpus=[]\n",
    "for season in seasons:\n",
    "    character_corpus_this_season=[]\n",
    "    character_corpus_this_season=data.loc[data['Season']==season, 'Character'].tolist()\n",
    "    character_corpus.append(character_corpus_this_season)\n",
    "\n",
    "#character_corpus     "
   ]
  },
  {
   "cell_type": "code",
   "execution_count": 105,
   "metadata": {
    "collapsed": false
   },
   "outputs": [
    {
     "data": {
      "text/html": [
       "<div>\n",
       "<style scoped>\n",
       "    .dataframe tbody tr th:only-of-type {\n",
       "        vertical-align: middle;\n",
       "    }\n",
       "\n",
       "    .dataframe tbody tr th {\n",
       "        vertical-align: top;\n",
       "    }\n",
       "\n",
       "    .dataframe thead th {\n",
       "        text-align: right;\n",
       "    }\n",
       "</style>\n",
       "<table border=\"1\" class=\"dataframe\">\n",
       "  <thead>\n",
       "    <tr style=\"text-align: right;\">\n",
       "      <th></th>\n",
       "      <th>character_corpus</th>\n",
       "      <th>season</th>\n",
       "    </tr>\n",
       "  </thead>\n",
       "  <tbody>\n",
       "    <tr>\n",
       "      <th>0</th>\n",
       "      <td>[Announcer 1, Announcer 2, Scott, Phillip, Ter...</td>\n",
       "      <td>2</td>\n",
       "    </tr>\n",
       "    <tr>\n",
       "      <th>1</th>\n",
       "      <td>[Mr. Garrison, Choir Teacher, Mr. Garrison, Ca...</td>\n",
       "      <td>3</td>\n",
       "    </tr>\n",
       "    <tr>\n",
       "      <th>2</th>\n",
       "      <td>[Butters, Sledders, Butters, Stan, Token, Cart...</td>\n",
       "      <td>4</td>\n",
       "    </tr>\n",
       "    <tr>\n",
       "      <th>3</th>\n",
       "      <td>[Cartman, Tuong Lu Kim, Cartman, Tuong Lu Kim,...</td>\n",
       "      <td>6</td>\n",
       "    </tr>\n",
       "    <tr>\n",
       "      <th>4</th>\n",
       "      <td>[Kyle, Stan, Kyle, Stan and Kenny, Kyle, Stan,...</td>\n",
       "      <td>5</td>\n",
       "    </tr>\n",
       "    <tr>\n",
       "      <th>5</th>\n",
       "      <td>[The Boys, Kyle, Cartman, Kyle, Ike, Kyle, Car...</td>\n",
       "      <td>7</td>\n",
       "    </tr>\n",
       "    <tr>\n",
       "      <th>6</th>\n",
       "      <td>[Boys, Kyle, Ike, Kyle, Cartman, Kyle, Stan, K...</td>\n",
       "      <td>1</td>\n",
       "    </tr>\n",
       "    <tr>\n",
       "      <th>7</th>\n",
       "      <td>[Kyle, Cartman, Kyle, Roger, Stan, Kyle, Stan,...</td>\n",
       "      <td>8</td>\n",
       "    </tr>\n",
       "    <tr>\n",
       "      <th>8</th>\n",
       "      <td>[Doctor, Mr. Garrison, Dr. Biber, Mr. Garrison...</td>\n",
       "      <td>9</td>\n",
       "    </tr>\n",
       "    <tr>\n",
       "      <th>9</th>\n",
       "      <td>[Announcer, Pat Sajak, Randy, Pat Sajak, Randy...</td>\n",
       "      <td>11</td>\n",
       "    </tr>\n",
       "    <tr>\n",
       "      <th>10</th>\n",
       "      <td>[Stan, Kyle, Stan, Chef, Stan, Chef, Mrs. Garr...</td>\n",
       "      <td>10</td>\n",
       "    </tr>\n",
       "    <tr>\n",
       "      <th>11</th>\n",
       "      <td>[Man, Man, Woman, Tiger, Elin, Tiger, Elin, Ti...</td>\n",
       "      <td>14</td>\n",
       "    </tr>\n",
       "    <tr>\n",
       "      <th>12</th>\n",
       "      <td>[Cartman, Dentist, Cartman, Liane, Dentist, Ca...</td>\n",
       "      <td>12</td>\n",
       "    </tr>\n",
       "    <tr>\n",
       "      <th>13</th>\n",
       "      <td>[Cartman, Stan, Kyle, Cartman, Craig, Kyle, Ji...</td>\n",
       "      <td>13</td>\n",
       "    </tr>\n",
       "    <tr>\n",
       "      <th>14</th>\n",
       "      <td>[Stan, Betsy, Betsy, Clyde, Betsy, Clyde, Bets...</td>\n",
       "      <td>16</td>\n",
       "    </tr>\n",
       "    <tr>\n",
       "      <th>15</th>\n",
       "      <td>[Cartman, Craig, Cartman, Craig, Cartman, Stan...</td>\n",
       "      <td>15</td>\n",
       "    </tr>\n",
       "    <tr>\n",
       "      <th>16</th>\n",
       "      <td>[Gerald, Kyle, Gerald, Kyle, Gerald, Kyle, Kyl...</td>\n",
       "      <td>18</td>\n",
       "    </tr>\n",
       "    <tr>\n",
       "      <th>17</th>\n",
       "      <td>[Kyle, Cartman, Lawrence, Cartman, Kyle, Lawre...</td>\n",
       "      <td>17</td>\n",
       "    </tr>\n",
       "  </tbody>\n",
       "</table>\n",
       "</div>"
      ],
      "text/plain": [
       "                                     character_corpus season\n",
       "0   [Announcer 1, Announcer 2, Scott, Phillip, Ter...      2\n",
       "1   [Mr. Garrison, Choir Teacher, Mr. Garrison, Ca...      3\n",
       "2   [Butters, Sledders, Butters, Stan, Token, Cart...      4\n",
       "3   [Cartman, Tuong Lu Kim, Cartman, Tuong Lu Kim,...      6\n",
       "4   [Kyle, Stan, Kyle, Stan and Kenny, Kyle, Stan,...      5\n",
       "5   [The Boys, Kyle, Cartman, Kyle, Ike, Kyle, Car...      7\n",
       "6   [Boys, Kyle, Ike, Kyle, Cartman, Kyle, Stan, K...      1\n",
       "7   [Kyle, Cartman, Kyle, Roger, Stan, Kyle, Stan,...      8\n",
       "8   [Doctor, Mr. Garrison, Dr. Biber, Mr. Garrison...      9\n",
       "9   [Announcer, Pat Sajak, Randy, Pat Sajak, Randy...     11\n",
       "10  [Stan, Kyle, Stan, Chef, Stan, Chef, Mrs. Garr...     10\n",
       "11  [Man, Man, Woman, Tiger, Elin, Tiger, Elin, Ti...     14\n",
       "12  [Cartman, Dentist, Cartman, Liane, Dentist, Ca...     12\n",
       "13  [Cartman, Stan, Kyle, Cartman, Craig, Kyle, Ji...     13\n",
       "14  [Stan, Betsy, Betsy, Clyde, Betsy, Clyde, Bets...     16\n",
       "15  [Cartman, Craig, Cartman, Craig, Cartman, Stan...     15\n",
       "16  [Gerald, Kyle, Gerald, Kyle, Gerald, Kyle, Kyl...     18\n",
       "17  [Kyle, Cartman, Lawrence, Cartman, Kyle, Lawre...     17"
      ]
     },
     "execution_count": 105,
     "metadata": {},
     "output_type": "execute_result"
    }
   ],
   "source": [
    "#combine seasons and character_corpus into dataframe:\n",
    "character_season=pd.DataFrame(\n",
    "    {'season': seasons,\n",
    "     'character_corpus': character_corpus\n",
    "    })\n",
    "\n",
    "character_season"
   ]
  },
  {
   "cell_type": "code",
   "execution_count": 106,
   "metadata": {
    "collapsed": false
   },
   "outputs": [],
   "source": [
    "#concatenate corpus of 18 seasons into one corpus:\n",
    "corpus=[]\n",
    "for s in list(range(1,19)):\n",
    "    corpus=corpus+character_season.loc[character_season['season']==str(s), 'character_corpus'].tolist()[0]\n",
    "#corpus"
   ]
  },
  {
   "cell_type": "code",
   "execution_count": 107,
   "metadata": {
    "collapsed": false
   },
   "outputs": [],
   "source": [
    "#perform bigram analysis on each season's character corpus and return top 10 pairs in each season\n",
    "import nltk\n",
    "#test it on season 1:\n",
    "#bgs = nltk.bigrams(character_season.loc[character_season['season']=='1', 'character_corpus'].tolist()[0])\n",
    "bgs=nltk.bigrams(corpus)"
   ]
  },
  {
   "cell_type": "code",
   "execution_count": 108,
   "metadata": {
    "collapsed": false
   },
   "outputs": [],
   "source": [
    "#returns of dictionary of unique sets of (key: value) pairs\n",
    "bgs_freq = nltk.FreqDist(bgs) \n",
    "#print(bgs_freq.items())"
   ]
  },
  {
   "cell_type": "code",
   "execution_count": 109,
   "metadata": {
    "collapsed": false
   },
   "outputs": [
    {
     "data": {
      "text/plain": [
       "[(('Kyle', 'Cartman'), 2092),\n",
       " (('Cartman', 'Kyle'), 1991),\n",
       " (('Stan', 'Kyle'), 1753),\n",
       " (('Kyle', 'Stan'), 1644),\n",
       " (('Stan', 'Cartman'), 1434),\n",
       " (('Cartman', 'Stan'), 1388),\n",
       " (('Cartman', 'Butters'), 837),\n",
       " (('Butters', 'Cartman'), 820),\n",
       " (('Stan', 'Randy'), 469),\n",
       " (('Randy', 'Stan'), 462),\n",
       " (('Sharon', 'Randy'), 358),\n",
       " (('Randy', 'Sharon'), 351),\n",
       " (('Liane', 'Cartman'), 319),\n",
       " (('Cartman', 'Liane'), 311),\n",
       " (('Stan', 'Butters'), 304),\n",
       " (('Butters', 'Stan'), 300),\n",
       " (('Cartman', 'Cartman'), 265),\n",
       " (('Cartman', 'Kenny'), 236),\n",
       " (('Kenny', 'Cartman'), 210),\n",
       " (('Butters', 'Kyle'), 199),\n",
       " (('Chef', 'Stan'), 189),\n",
       " (('Kyle', 'Butters'), 186),\n",
       " (('Stan', 'Chef'), 178),\n",
       " (('Kyle', 'Kenny'), 177),\n",
       " (('Kenny', 'Stan'), 176),\n",
       " (('Stan', 'Kenny'), 165),\n",
       " (('Kyle', 'Sheila'), 161),\n",
       " (('Sheila', 'Kyle'), 158),\n",
       " (('Sharon', 'Stan'), 155),\n",
       " (('Kyle', 'Chef'), 153),\n",
       " (('Kenny', 'Kyle'), 142),\n",
       " (('Stan', 'Sharon'), 142),\n",
       " (('Chef', 'Kyle'), 138),\n",
       " (('Cartman', 'Wendy'), 133),\n",
       " (('Cartman', 'Jimmy'), 130),\n",
       " (('Wendy', 'Cartman'), 129),\n",
       " (('Gerald', 'Kyle'), 129),\n",
       " (('Wendy', 'Stan'), 129),\n",
       " (('Stan', 'Wendy'), 125),\n",
       " (('Jimmy', 'Cartman'), 124)]"
      ]
     },
     "execution_count": 109,
     "metadata": {},
     "output_type": "execute_result"
    }
   ],
   "source": [
    "#return 20 most common bigrams:\n",
    "bgs_freq.most_common(40)"
   ]
  },
  {
   "cell_type": "code",
   "execution_count": 110,
   "metadata": {
    "collapsed": false
   },
   "outputs": [
    {
     "data": {
      "image/png": "[encoded data removed]",
      "text/plain": [
       "<matplotlib.figure.Figure at 0x115d0048>"
      ]
     },
     "metadata": {},
     "output_type": "display_data"
    }
   ],
   "source": [
    "# Bar chart showing amount of interactions/conversation between top 10 pairs of chacracters \n",
    "\n",
    "friendship=['Kyle, Cartman', 'Stan, Kyle', 'Cartman, Stan','Cartman, Butter', 'Stan, Randy', \n",
    "            'Randy, Sharon', 'Cartman, Liane', 'Stan, Butters', 'Cartman, Kenny', 'Kyle, Butters']\n",
    "\n",
    "conversation=[4083, 3397,2822 ,1657, 931, 709, 630, 604, 446, 384]\n",
    "\n",
    "y_pos = np.arange(len(friendship))\n",
    "plt.bar(y_pos, conversation, align='center', alpha=0.5)\n",
    "plt.xticks(y_pos, friendship, rotation=45)\n",
    "plt.ylabel('conversations')\n",
    "plt.title('Who Are Best Friends with Who Measured by Amount of Conversation')\n",
    " \n",
    "plt.show()"
   ]
  },
  {
   "cell_type": "markdown",
   "metadata": {},
   "source": [
    "## 2. Charaters with Biggest Vocabulary: Word Count"
   ]
  },
  {
   "cell_type": "code",
   "execution_count": 111,
   "metadata": {
    "collapsed": false,
    "scrolled": true
   },
   "outputs": [
    {
     "data": {
      "text/plain": [
       "['Cartman',\n",
       " 'Stan',\n",
       " 'Kyle',\n",
       " 'Butters',\n",
       " 'Randy',\n",
       " 'Mr. Garrison',\n",
       " 'Chef',\n",
       " 'Kenny',\n",
       " 'Sharon',\n",
       " 'Mr. Mackey',\n",
       " 'Gerald',\n",
       " 'Jimmy',\n",
       " 'Wendy',\n",
       " 'Liane',\n",
       " 'Sheila',\n",
       " 'Jimbo',\n",
       " 'Announcer',\n",
       " 'Stephen',\n",
       " 'Craig',\n",
       " 'Clyde',\n",
       " 'Jesus',\n",
       " 'Linda',\n",
       " 'Principal Victoria',\n",
       " 'Terrance',\n",
       " 'Mrs. Garrison',\n",
       " 'Token',\n",
       " 'Timmy',\n",
       " 'Mayor',\n",
       " 'Tweek',\n",
       " 'Phillip',\n",
       " 'Bebe',\n",
       " 'Man',\n",
       " 'Woman',\n",
       " 'Satan',\n",
       " 'Ike',\n",
       " 'Michael',\n",
       " 'Shelly',\n",
       " 'Chris',\n",
       " 'Scott',\n",
       " 'Pip',\n",
       " 'Officer Barbrady',\n",
       " 'Ms. Choksondik',\n",
       " 'Narrator',\n",
       " 'Dr. Doctor',\n",
       " 'Barbrady',\n",
       " 'Stuart',\n",
       " 'Mr. Hankey',\n",
       " 'Mephesto',\n",
       " 'Doctor',\n",
       " 'Kids',\n",
       " 'Towelie',\n",
       " 'General',\n",
       " 'Reporter',\n",
       " 'Man 2',\n",
       " 'Yates',\n",
       " 'Crowd',\n",
       " 'Coon',\n",
       " 'Mark',\n",
       " 'Clerk',\n",
       " 'Pete',\n",
       " 'The Boys',\n",
       " 'Mysterion',\n",
       " 'Ned',\n",
       " 'Man 1',\n",
       " 'Mayor McDaniels',\n",
       " 'Nathan',\n",
       " 'Tom',\n",
       " 'Driver',\n",
       " 'Mrs. McCormick',\n",
       " 'Marvin',\n",
       " 'Thomas',\n",
       " 'Priest Maxi',\n",
       " 'Ms. Crabtree',\n",
       " 'Saddam',\n",
       " 'Gary',\n",
       " 'Skeeter',\n",
       " 'Kyle Two',\n",
       " 'Field Reporter',\n",
       " 'Steven',\n",
       " 'Producer',\n",
       " 'Red',\n",
       " 'Mr. Slave',\n",
       " 'Joe',\n",
       " 'Santa',\n",
       " 'Boys',\n",
       " 'President',\n",
       " 'All',\n",
       " 'Steve',\n",
       " 'Officer 1',\n",
       " 'Skyler',\n",
       " 'Singer',\n",
       " 'Manager',\n",
       " 'Anchor',\n",
       " 'Singers',\n",
       " 'Henrietta',\n",
       " 'Receptionist',\n",
       " 'Janet',\n",
       " 'Richard',\n",
       " 'Sgt. Yates',\n",
       " 'Dougie']"
      ]
     },
     "execution_count": 111,
     "metadata": {},
     "output_type": "execute_result"
    }
   ],
   "source": [
    "#prepare character corpus by appending text in 'Character' column into list for each season:\n",
    "#take the top 100 characters\n",
    "characters= data['Character'].value_counts().index.tolist()\n",
    "characters=characters[0:100]\n",
    "characters"
   ]
  },
  {
   "cell_type": "code",
   "execution_count": 112,
   "metadata": {
    "collapsed": false
   },
   "outputs": [],
   "source": [
    "character_words=[]\n",
    "for character in characters:\n",
    "    words_this_character=[word for sublist in \n",
    "                          data.loc[data['Character']==character, 'parsed_Line'].str.strip('[]').str.split(',').tolist() \n",
    "                          for word in sublist]\n",
    "    character_words.append(words_this_character)\n",
    "\n",
    "#character_words"
   ]
  },
  {
   "cell_type": "code",
   "execution_count": 113,
   "metadata": {
    "collapsed": false
   },
   "outputs": [
    {
     "data": {
      "text/plain": [
       "8219"
      ]
     },
     "execution_count": 113,
     "metadata": {},
     "output_type": "execute_result"
    }
   ],
   "source": [
    "len(set(character_words[10]))\n",
    "len(character_words[5])"
   ]
  },
  {
   "cell_type": "code",
   "execution_count": 114,
   "metadata": {
    "collapsed": false
   },
   "outputs": [
    {
     "data": {
      "text/plain": [
       "[9982,\n",
       " 5453,\n",
       " 5452,\n",
       " 3874,\n",
       " 3904,\n",
       " 2377,\n",
       " 1877,\n",
       " 893,\n",
       " 1413,\n",
       " 1846,\n",
       " 1365,\n",
       " 1755,\n",
       " 1235,\n",
       " 1060,\n",
       " 1121,\n",
       " 1456,\n",
       " 2110,\n",
       " 1000,\n",
       " 758,\n",
       " 712,\n",
       " 969,\n",
       " 663,\n",
       " 907,\n",
       " 625,\n",
       " 972,\n",
       " 643,\n",
       " 180,\n",
       " 859,\n",
       " 458,\n",
       " 542,\n",
       " 569,\n",
       " 614,\n",
       " 614,\n",
       " 701,\n",
       " 457,\n",
       " 775,\n",
       " 452,\n",
       " 554,\n",
       " 593,\n",
       " 483,\n",
       " 519,\n",
       " 597,\n",
       " 1332,\n",
       " 662,\n",
       " 499,\n",
       " 495,\n",
       " 528,\n",
       " 548,\n",
       " 717,\n",
       " 196,\n",
       " 335,\n",
       " 492,\n",
       " 1183,\n",
       " 348,\n",
       " 500,\n",
       " 138,\n",
       " 624,\n",
       " 373,\n",
       " 421,\n",
       " 409,\n",
       " 107,\n",
       " 415,\n",
       " 258,\n",
       " 388,\n",
       " 464,\n",
       " 369,\n",
       " 569,\n",
       " 343,\n",
       " 305,\n",
       " 333,\n",
       " 358,\n",
       " 465,\n",
       " 260,\n",
       " 315,\n",
       " 301,\n",
       " 357,\n",
       " 245,\n",
       " 731,\n",
       " 363,\n",
       " 359,\n",
       " 225,\n",
       " 222,\n",
       " 299,\n",
       " 251,\n",
       " 109,\n",
       " 514,\n",
       " 121,\n",
       " 309,\n",
       " 305,\n",
       " 250,\n",
       " 413,\n",
       " 276,\n",
       " 724,\n",
       " 293,\n",
       " 287,\n",
       " 240,\n",
       " 258,\n",
       " 236,\n",
       " 289,\n",
       " 186]"
      ]
     },
     "execution_count": 114,
     "metadata": {},
     "output_type": "execute_result"
    }
   ],
   "source": [
    "#get unique word count for each of top 100 characters:\n",
    "unique_word_count=[]\n",
    "for sublist in character_words:\n",
    "    unique_word_count.append(len(set(sublist)))\n",
    "unique_word_count"
   ]
  },
  {
   "cell_type": "code",
   "execution_count": 115,
   "metadata": {
    "collapsed": false
   },
   "outputs": [],
   "source": [
    "#get appearance for each of hte top 100 characters, for weighted vocabulary count:\n",
    "appearance= data['Character'].value_counts().tolist()[0:100]"
   ]
  },
  {
   "cell_type": "code",
   "execution_count": 116,
   "metadata": {
    "collapsed": false,
    "scrolled": true
   },
   "outputs": [
    {
     "data": {
      "text/html": [
       "<div>\n",
       "<style scoped>\n",
       "    .dataframe tbody tr th:only-of-type {\n",
       "        vertical-align: middle;\n",
       "    }\n",
       "\n",
       "    .dataframe tbody tr th {\n",
       "        vertical-align: top;\n",
       "    }\n",
       "\n",
       "    .dataframe thead th {\n",
       "        text-align: right;\n",
       "    }\n",
       "</style>\n",
       "<table border=\"1\" class=\"dataframe\">\n",
       "  <thead>\n",
       "    <tr style=\"text-align: right;\">\n",
       "      <th></th>\n",
       "      <th>appearance</th>\n",
       "      <th>character</th>\n",
       "      <th>vocabulary</th>\n",
       "    </tr>\n",
       "  </thead>\n",
       "  <tbody>\n",
       "    <tr>\n",
       "      <th>0</th>\n",
       "      <td>9774</td>\n",
       "      <td>Cartman</td>\n",
       "      <td>9982</td>\n",
       "    </tr>\n",
       "    <tr>\n",
       "      <th>1</th>\n",
       "      <td>7680</td>\n",
       "      <td>Stan</td>\n",
       "      <td>5453</td>\n",
       "    </tr>\n",
       "    <tr>\n",
       "      <th>2</th>\n",
       "      <td>7099</td>\n",
       "      <td>Kyle</td>\n",
       "      <td>5452</td>\n",
       "    </tr>\n",
       "    <tr>\n",
       "      <th>4</th>\n",
       "      <td>2467</td>\n",
       "      <td>Randy</td>\n",
       "      <td>3904</td>\n",
       "    </tr>\n",
       "    <tr>\n",
       "      <th>3</th>\n",
       "      <td>2602</td>\n",
       "      <td>Butters</td>\n",
       "      <td>3874</td>\n",
       "    </tr>\n",
       "    <tr>\n",
       "      <th>5</th>\n",
       "      <td>1002</td>\n",
       "      <td>Mr. Garrison</td>\n",
       "      <td>2377</td>\n",
       "    </tr>\n",
       "    <tr>\n",
       "      <th>16</th>\n",
       "      <td>407</td>\n",
       "      <td>Announcer</td>\n",
       "      <td>2110</td>\n",
       "    </tr>\n",
       "    <tr>\n",
       "      <th>6</th>\n",
       "      <td>917</td>\n",
       "      <td>Chef</td>\n",
       "      <td>1877</td>\n",
       "    </tr>\n",
       "    <tr>\n",
       "      <th>9</th>\n",
       "      <td>633</td>\n",
       "      <td>Mr. Mackey</td>\n",
       "      <td>1846</td>\n",
       "    </tr>\n",
       "    <tr>\n",
       "      <th>11</th>\n",
       "      <td>597</td>\n",
       "      <td>Jimmy</td>\n",
       "      <td>1755</td>\n",
       "    </tr>\n",
       "  </tbody>\n",
       "</table>\n",
       "</div>"
      ],
      "text/plain": [
       "    appearance     character  vocabulary\n",
       "0         9774       Cartman        9982\n",
       "1         7680          Stan        5453\n",
       "2         7099          Kyle        5452\n",
       "4         2467         Randy        3904\n",
       "3         2602       Butters        3874\n",
       "5         1002  Mr. Garrison        2377\n",
       "16         407     Announcer        2110\n",
       "6          917          Chef        1877\n",
       "9          633    Mr. Mackey        1846\n",
       "11         597         Jimmy        1755"
      ]
     },
     "execution_count": 116,
     "metadata": {},
     "output_type": "execute_result"
    }
   ],
   "source": [
    "#create vocabulary count table:\n",
    "vocabulary=pd.DataFrame(\n",
    "    {'character': characters,\n",
    "     'vocabulary': unique_word_count,\n",
    "     'appearance': appearance\n",
    "    })\n",
    "\n",
    "#top 10 characters in size of vocabulary:\n",
    "vocab_10=vocabulary.sort_values('vocabulary', axis=0, ascending=False).head(10)\n",
    "vocab_10"
   ]
  },
  {
   "cell_type": "code",
   "execution_count": 117,
   "metadata": {
    "collapsed": false
   },
   "outputs": [
    {
     "data": {
      "image/png": "[encoded data removed]",
      "text/plain": [
       "<matplotlib.figure.Figure at 0x16cdf240>"
      ]
     },
     "metadata": {},
     "output_type": "display_data"
    }
   ],
   "source": [
    "# Bar chart showing amount of interactions/conversation between top 10 pairs of chacracters \n",
    "\n",
    "y_pos = np.arange(len(vocab_10['character'].tolist()))\n",
    "plt.bar(y_pos, vocab_10['vocabulary'], align='center', alpha=0.5)\n",
    "plt.xticks(y_pos, vocab_10['character'].tolist(), rotation=45)\n",
    "plt.ylabel('vocabulary')\n",
    "plt.title('Who Has the Biggest Vocabulary in South Park?')\n",
    " \n",
    "plt.show()"
   ]
  },
  {
   "cell_type": "code",
   "execution_count": 118,
   "metadata": {
    "collapsed": false
   },
   "outputs": [
    {
     "data": {
      "text/html": [
       "<div>\n",
       "<style scoped>\n",
       "    .dataframe tbody tr th:only-of-type {\n",
       "        vertical-align: middle;\n",
       "    }\n",
       "\n",
       "    .dataframe tbody tr th {\n",
       "        vertical-align: top;\n",
       "    }\n",
       "\n",
       "    .dataframe thead th {\n",
       "        text-align: right;\n",
       "    }\n",
       "</style>\n",
       "<table border=\"1\" class=\"dataframe\">\n",
       "  <thead>\n",
       "    <tr style=\"text-align: right;\">\n",
       "      <th></th>\n",
       "      <th>appearance</th>\n",
       "      <th>character</th>\n",
       "      <th>vocabulary</th>\n",
       "      <th>weighted_vocabulary</th>\n",
       "    </tr>\n",
       "  </thead>\n",
       "  <tbody>\n",
       "    <tr>\n",
       "      <th>92</th>\n",
       "      <td>66</td>\n",
       "      <td>Anchor</td>\n",
       "      <td>724</td>\n",
       "      <td>10.969697</td>\n",
       "    </tr>\n",
       "    <tr>\n",
       "      <th>52</th>\n",
       "      <td>125</td>\n",
       "      <td>Reporter</td>\n",
       "      <td>1183</td>\n",
       "      <td>9.464000</td>\n",
       "    </tr>\n",
       "    <tr>\n",
       "      <th>77</th>\n",
       "      <td>78</td>\n",
       "      <td>Field Reporter</td>\n",
       "      <td>731</td>\n",
       "      <td>9.371795</td>\n",
       "    </tr>\n",
       "    <tr>\n",
       "      <th>42</th>\n",
       "      <td>151</td>\n",
       "      <td>Narrator</td>\n",
       "      <td>1332</td>\n",
       "      <td>8.821192</td>\n",
       "    </tr>\n",
       "    <tr>\n",
       "      <th>85</th>\n",
       "      <td>74</td>\n",
       "      <td>President</td>\n",
       "      <td>514</td>\n",
       "      <td>6.945946</td>\n",
       "    </tr>\n",
       "    <tr>\n",
       "      <th>90</th>\n",
       "      <td>67</td>\n",
       "      <td>Singer</td>\n",
       "      <td>413</td>\n",
       "      <td>6.164179</td>\n",
       "    </tr>\n",
       "    <tr>\n",
       "      <th>66</th>\n",
       "      <td>98</td>\n",
       "      <td>Tom</td>\n",
       "      <td>569</td>\n",
       "      <td>5.806122</td>\n",
       "    </tr>\n",
       "    <tr>\n",
       "      <th>56</th>\n",
       "      <td>113</td>\n",
       "      <td>Coon</td>\n",
       "      <td>624</td>\n",
       "      <td>5.522124</td>\n",
       "    </tr>\n",
       "    <tr>\n",
       "      <th>71</th>\n",
       "      <td>85</td>\n",
       "      <td>Priest Maxi</td>\n",
       "      <td>465</td>\n",
       "      <td>5.470588</td>\n",
       "    </tr>\n",
       "    <tr>\n",
       "      <th>16</th>\n",
       "      <td>407</td>\n",
       "      <td>Announcer</td>\n",
       "      <td>2110</td>\n",
       "      <td>5.184275</td>\n",
       "    </tr>\n",
       "  </tbody>\n",
       "</table>\n",
       "</div>"
      ],
      "text/plain": [
       "    appearance       character  vocabulary  weighted_vocabulary\n",
       "92          66          Anchor         724            10.969697\n",
       "52         125        Reporter        1183             9.464000\n",
       "77          78  Field Reporter         731             9.371795\n",
       "42         151        Narrator        1332             8.821192\n",
       "85          74       President         514             6.945946\n",
       "90          67          Singer         413             6.164179\n",
       "66          98             Tom         569             5.806122\n",
       "56         113            Coon         624             5.522124\n",
       "71          85     Priest Maxi         465             5.470588\n",
       "16         407       Announcer        2110             5.184275"
      ]
     },
     "execution_count": 118,
     "metadata": {},
     "output_type": "execute_result"
    }
   ],
   "source": [
    "# since the amount of appearance of character partially contributes to the magnitude of vocabulary, \n",
    "#we also calculate a weighted-vocabulary by deviding vocabulary by appearance:\n",
    "vocabulary['weighted_vocabulary']=vocabulary['vocabulary']/vocabulary['appearance']\n",
    "vocab_weighted10=vocabulary.sort_values('weighted_vocabulary', axis=0, ascending=False).head(10)\n",
    "vocab_weighted10"
   ]
  },
  {
   "cell_type": "code",
   "execution_count": 119,
   "metadata": {
    "collapsed": false
   },
   "outputs": [
    {
     "data": {
      "image/png": "[encoded data removed]",
      "text/plain": [
       "<matplotlib.figure.Figure at 0x16d3ac50>"
      ]
     },
     "metadata": {},
     "output_type": "display_data"
    }
   ],
   "source": [
    "# Bar chart plot weighted vocabulary of top 10 characters\n",
    "\n",
    "y_pos = np.arange(len(vocab_weighted10['character'].tolist()))\n",
    "plt.bar(y_pos, vocab_weighted10['weighted_vocabulary'], align='center', alpha=0.5)\n",
    "plt.xticks(y_pos, vocab_weighted10['character'].tolist(), rotation=45)\n",
    "plt.ylabel('weighted vocabulary')\n",
    "plt.title('Who Has the Biggest Vocabulary Weighted by Appearance in South Park?')\n",
    " \n",
    "plt.show()"
   ]
  },
  {
   "cell_type": "code",
   "execution_count": 120,
   "metadata": {
    "collapsed": false
   },
   "outputs": [
    {
     "data": {
      "text/html": [
       "<div>\n",
       "<style scoped>\n",
       "    .dataframe tbody tr th:only-of-type {\n",
       "        vertical-align: middle;\n",
       "    }\n",
       "\n",
       "    .dataframe tbody tr th {\n",
       "        vertical-align: top;\n",
       "    }\n",
       "\n",
       "    .dataframe thead th {\n",
       "        text-align: right;\n",
       "    }\n",
       "</style>\n",
       "<table border=\"1\" class=\"dataframe\">\n",
       "  <thead>\n",
       "    <tr style=\"text-align: right;\">\n",
       "      <th></th>\n",
       "      <th>appearance</th>\n",
       "      <th>character</th>\n",
       "      <th>vocabulary</th>\n",
       "      <th>weighted_vocabulary</th>\n",
       "    </tr>\n",
       "  </thead>\n",
       "  <tbody>\n",
       "    <tr>\n",
       "      <th>0</th>\n",
       "      <td>9774</td>\n",
       "      <td>Cartman</td>\n",
       "      <td>9982</td>\n",
       "      <td>1.021281</td>\n",
       "    </tr>\n",
       "    <tr>\n",
       "      <th>1</th>\n",
       "      <td>7680</td>\n",
       "      <td>Stan</td>\n",
       "      <td>5453</td>\n",
       "      <td>0.710026</td>\n",
       "    </tr>\n",
       "    <tr>\n",
       "      <th>2</th>\n",
       "      <td>7099</td>\n",
       "      <td>Kyle</td>\n",
       "      <td>5452</td>\n",
       "      <td>0.767995</td>\n",
       "    </tr>\n",
       "    <tr>\n",
       "      <th>4</th>\n",
       "      <td>2467</td>\n",
       "      <td>Randy</td>\n",
       "      <td>3904</td>\n",
       "      <td>1.582489</td>\n",
       "    </tr>\n",
       "    <tr>\n",
       "      <th>3</th>\n",
       "      <td>2602</td>\n",
       "      <td>Butters</td>\n",
       "      <td>3874</td>\n",
       "      <td>1.488855</td>\n",
       "    </tr>\n",
       "    <tr>\n",
       "      <th>5</th>\n",
       "      <td>1002</td>\n",
       "      <td>Mr. Garrison</td>\n",
       "      <td>2377</td>\n",
       "      <td>2.372255</td>\n",
       "    </tr>\n",
       "    <tr>\n",
       "      <th>16</th>\n",
       "      <td>407</td>\n",
       "      <td>Announcer</td>\n",
       "      <td>2110</td>\n",
       "      <td>5.184275</td>\n",
       "    </tr>\n",
       "    <tr>\n",
       "      <th>6</th>\n",
       "      <td>917</td>\n",
       "      <td>Chef</td>\n",
       "      <td>1877</td>\n",
       "      <td>2.046892</td>\n",
       "    </tr>\n",
       "    <tr>\n",
       "      <th>9</th>\n",
       "      <td>633</td>\n",
       "      <td>Mr. Mackey</td>\n",
       "      <td>1846</td>\n",
       "      <td>2.916272</td>\n",
       "    </tr>\n",
       "    <tr>\n",
       "      <th>11</th>\n",
       "      <td>597</td>\n",
       "      <td>Jimmy</td>\n",
       "      <td>1755</td>\n",
       "      <td>2.939698</td>\n",
       "    </tr>\n",
       "  </tbody>\n",
       "</table>\n",
       "</div>"
      ],
      "text/plain": [
       "    appearance     character  vocabulary  weighted_vocabulary\n",
       "0         9774       Cartman        9982             1.021281\n",
       "1         7680          Stan        5453             0.710026\n",
       "2         7099          Kyle        5452             0.767995\n",
       "4         2467         Randy        3904             1.582489\n",
       "3         2602       Butters        3874             1.488855\n",
       "5         1002  Mr. Garrison        2377             2.372255\n",
       "16         407     Announcer        2110             5.184275\n",
       "6          917          Chef        1877             2.046892\n",
       "9          633    Mr. Mackey        1846             2.916272\n",
       "11         597         Jimmy        1755             2.939698"
      ]
     },
     "execution_count": 120,
     "metadata": {},
     "output_type": "execute_result"
    }
   ],
   "source": [
    "vocabulary.sort_values('vocabulary', axis=0, ascending=False).head(10)"
   ]
  },
  {
   "cell_type": "markdown",
   "metadata": {},
   "source": [
    "## 3. Kenny's Destiny Over Seasons: how many times has Kenny died in each season?"
   ]
  },
  {
   "cell_type": "code",
   "execution_count": 121,
   "metadata": {
    "collapsed": false
   },
   "outputs": [
    {
     "data": {
      "text/plain": [
       "70896"
      ]
     },
     "execution_count": 121,
     "metadata": {},
     "output_type": "execute_result"
    }
   ],
   "source": [
    "#read in the parsed_Line as a list object saved in local file through pickle\n",
    "import pickle\n",
    "\n",
    "with open(\"parsed_Line.txt\", \"rb\") as f:   # Unpickling\n",
    "    parsed_Line = pickle.load(f)\n",
    "\n",
    "len(parsed_Line) #checked"
   ]
  },
  {
   "cell_type": "code",
   "execution_count": 122,
   "metadata": {
    "collapsed": false
   },
   "outputs": [
    {
     "data": {
      "text/plain": [
       "[3, 13, 8, 20, 8, 14, 6, 3, 11, 5, 5, 11, 9, 10, 1, 6, 2, 3]"
      ]
     },
     "execution_count": 122,
     "metadata": {},
     "output_type": "execute_result"
    }
   ],
   "source": [
    "season=list(range(1,19))\n",
    "kenny_season_count=[]\n",
    "kenny_keywords=['died', 'Died','death', 'Death','dead', 'Dead', 'die', 'Die','killed', 'Killed','kill', 'Kill']\n",
    "for s in season:\n",
    "    kenny_count = 0\n",
    "    for index, row in data[data['Season']==str(s)].iterrows():\n",
    "        if row['Line'].find('Kenny') == 1 & any(row['Line'].find(keyword) ==1 for keyword in kenny_keywords):\n",
    "            kenny_count=kenny_count+1 #count kenny's death in each season\n",
    "            \n",
    "    kenny_season_count.append(kenny_count) #append kenny's death in this season to the list of death by season\n",
    "                \n",
    "kenny_season_count        "
   ]
  },
  {
   "cell_type": "code",
   "execution_count": 123,
   "metadata": {
    "collapsed": false
   },
   "outputs": [
    {
     "data": {
      "text/html": [
       "<div>\n",
       "<style scoped>\n",
       "    .dataframe tbody tr th:only-of-type {\n",
       "        vertical-align: middle;\n",
       "    }\n",
       "\n",
       "    .dataframe tbody tr th {\n",
       "        vertical-align: top;\n",
       "    }\n",
       "\n",
       "    .dataframe thead th {\n",
       "        text-align: right;\n",
       "    }\n",
       "</style>\n",
       "<table border=\"1\" class=\"dataframe\">\n",
       "  <thead>\n",
       "    <tr style=\"text-align: right;\">\n",
       "      <th></th>\n",
       "      <th>kenny_death</th>\n",
       "      <th>season</th>\n",
       "    </tr>\n",
       "  </thead>\n",
       "  <tbody>\n",
       "    <tr>\n",
       "      <th>3</th>\n",
       "      <td>20</td>\n",
       "      <td>4</td>\n",
       "    </tr>\n",
       "    <tr>\n",
       "      <th>5</th>\n",
       "      <td>14</td>\n",
       "      <td>6</td>\n",
       "    </tr>\n",
       "    <tr>\n",
       "      <th>1</th>\n",
       "      <td>13</td>\n",
       "      <td>2</td>\n",
       "    </tr>\n",
       "    <tr>\n",
       "      <th>8</th>\n",
       "      <td>11</td>\n",
       "      <td>9</td>\n",
       "    </tr>\n",
       "    <tr>\n",
       "      <th>11</th>\n",
       "      <td>11</td>\n",
       "      <td>12</td>\n",
       "    </tr>\n",
       "    <tr>\n",
       "      <th>13</th>\n",
       "      <td>10</td>\n",
       "      <td>14</td>\n",
       "    </tr>\n",
       "    <tr>\n",
       "      <th>12</th>\n",
       "      <td>9</td>\n",
       "      <td>13</td>\n",
       "    </tr>\n",
       "    <tr>\n",
       "      <th>2</th>\n",
       "      <td>8</td>\n",
       "      <td>3</td>\n",
       "    </tr>\n",
       "    <tr>\n",
       "      <th>4</th>\n",
       "      <td>8</td>\n",
       "      <td>5</td>\n",
       "    </tr>\n",
       "    <tr>\n",
       "      <th>6</th>\n",
       "      <td>6</td>\n",
       "      <td>7</td>\n",
       "    </tr>\n",
       "    <tr>\n",
       "      <th>15</th>\n",
       "      <td>6</td>\n",
       "      <td>16</td>\n",
       "    </tr>\n",
       "    <tr>\n",
       "      <th>9</th>\n",
       "      <td>5</td>\n",
       "      <td>10</td>\n",
       "    </tr>\n",
       "    <tr>\n",
       "      <th>10</th>\n",
       "      <td>5</td>\n",
       "      <td>11</td>\n",
       "    </tr>\n",
       "    <tr>\n",
       "      <th>0</th>\n",
       "      <td>3</td>\n",
       "      <td>1</td>\n",
       "    </tr>\n",
       "    <tr>\n",
       "      <th>7</th>\n",
       "      <td>3</td>\n",
       "      <td>8</td>\n",
       "    </tr>\n",
       "    <tr>\n",
       "      <th>17</th>\n",
       "      <td>3</td>\n",
       "      <td>18</td>\n",
       "    </tr>\n",
       "    <tr>\n",
       "      <th>16</th>\n",
       "      <td>2</td>\n",
       "      <td>17</td>\n",
       "    </tr>\n",
       "    <tr>\n",
       "      <th>14</th>\n",
       "      <td>1</td>\n",
       "      <td>15</td>\n",
       "    </tr>\n",
       "  </tbody>\n",
       "</table>\n",
       "</div>"
      ],
      "text/plain": [
       "    kenny_death  season\n",
       "3            20       4\n",
       "5            14       6\n",
       "1            13       2\n",
       "8            11       9\n",
       "11           11      12\n",
       "13           10      14\n",
       "12            9      13\n",
       "2             8       3\n",
       "4             8       5\n",
       "6             6       7\n",
       "15            6      16\n",
       "9             5      10\n",
       "10            5      11\n",
       "0             3       1\n",
       "7             3       8\n",
       "17            3      18\n",
       "16            2      17\n",
       "14            1      15"
      ]
     },
     "execution_count": 123,
     "metadata": {},
     "output_type": "execute_result"
    }
   ],
   "source": [
    "#create kenny death count table\n",
    "kenny_death=pd.DataFrame(\n",
    "    {'season': season,\n",
    "     'kenny_death': kenny_season_count\n",
    "    })\n",
    "\n",
    "#rank seasons by kenny death count:\n",
    "kenny_death.sort_values('kenny_death', axis=0, ascending=False)"
   ]
  },
  {
   "cell_type": "code",
   "execution_count": 124,
   "metadata": {
    "collapsed": false
   },
   "outputs": [
    {
     "data": {
      "text/html": [
       "<div>\n",
       "<style scoped>\n",
       "    .dataframe tbody tr th:only-of-type {\n",
       "        vertical-align: middle;\n",
       "    }\n",
       "\n",
       "    .dataframe tbody tr th {\n",
       "        vertical-align: top;\n",
       "    }\n",
       "\n",
       "    .dataframe thead th {\n",
       "        text-align: right;\n",
       "    }\n",
       "</style>\n",
       "<table border=\"1\" class=\"dataframe\">\n",
       "  <thead>\n",
       "    <tr style=\"text-align: right;\">\n",
       "      <th></th>\n",
       "      <th>kenny_death</th>\n",
       "      <th>season</th>\n",
       "    </tr>\n",
       "  </thead>\n",
       "  <tbody>\n",
       "    <tr>\n",
       "      <th>0</th>\n",
       "      <td>3</td>\n",
       "      <td>1</td>\n",
       "    </tr>\n",
       "    <tr>\n",
       "      <th>1</th>\n",
       "      <td>13</td>\n",
       "      <td>2</td>\n",
       "    </tr>\n",
       "    <tr>\n",
       "      <th>2</th>\n",
       "      <td>8</td>\n",
       "      <td>3</td>\n",
       "    </tr>\n",
       "    <tr>\n",
       "      <th>3</th>\n",
       "      <td>20</td>\n",
       "      <td>4</td>\n",
       "    </tr>\n",
       "    <tr>\n",
       "      <th>4</th>\n",
       "      <td>8</td>\n",
       "      <td>5</td>\n",
       "    </tr>\n",
       "    <tr>\n",
       "      <th>5</th>\n",
       "      <td>14</td>\n",
       "      <td>6</td>\n",
       "    </tr>\n",
       "    <tr>\n",
       "      <th>6</th>\n",
       "      <td>6</td>\n",
       "      <td>7</td>\n",
       "    </tr>\n",
       "    <tr>\n",
       "      <th>7</th>\n",
       "      <td>3</td>\n",
       "      <td>8</td>\n",
       "    </tr>\n",
       "    <tr>\n",
       "      <th>8</th>\n",
       "      <td>11</td>\n",
       "      <td>9</td>\n",
       "    </tr>\n",
       "    <tr>\n",
       "      <th>9</th>\n",
       "      <td>5</td>\n",
       "      <td>10</td>\n",
       "    </tr>\n",
       "    <tr>\n",
       "      <th>10</th>\n",
       "      <td>5</td>\n",
       "      <td>11</td>\n",
       "    </tr>\n",
       "    <tr>\n",
       "      <th>11</th>\n",
       "      <td>11</td>\n",
       "      <td>12</td>\n",
       "    </tr>\n",
       "    <tr>\n",
       "      <th>12</th>\n",
       "      <td>9</td>\n",
       "      <td>13</td>\n",
       "    </tr>\n",
       "    <tr>\n",
       "      <th>13</th>\n",
       "      <td>10</td>\n",
       "      <td>14</td>\n",
       "    </tr>\n",
       "    <tr>\n",
       "      <th>14</th>\n",
       "      <td>1</td>\n",
       "      <td>15</td>\n",
       "    </tr>\n",
       "    <tr>\n",
       "      <th>15</th>\n",
       "      <td>6</td>\n",
       "      <td>16</td>\n",
       "    </tr>\n",
       "    <tr>\n",
       "      <th>16</th>\n",
       "      <td>2</td>\n",
       "      <td>17</td>\n",
       "    </tr>\n",
       "    <tr>\n",
       "      <th>17</th>\n",
       "      <td>3</td>\n",
       "      <td>18</td>\n",
       "    </tr>\n",
       "  </tbody>\n",
       "</table>\n",
       "</div>"
      ],
      "text/plain": [
       "    kenny_death  season\n",
       "0             3       1\n",
       "1            13       2\n",
       "2             8       3\n",
       "3            20       4\n",
       "4             8       5\n",
       "5            14       6\n",
       "6             6       7\n",
       "7             3       8\n",
       "8            11       9\n",
       "9             5      10\n",
       "10            5      11\n",
       "11           11      12\n",
       "12            9      13\n",
       "13           10      14\n",
       "14            1      15\n",
       "15            6      16\n",
       "16            2      17\n",
       "17            3      18"
      ]
     },
     "execution_count": 124,
     "metadata": {},
     "output_type": "execute_result"
    }
   ],
   "source": [
    "death_sorted=kenny_death.sort_values('season', axis=0, ascending=True)\n",
    "death_sorted"
   ]
  },
  {
   "cell_type": "code",
   "execution_count": 125,
   "metadata": {
    "collapsed": false
   },
   "outputs": [
    {
     "data": {
      "image/png": "[encoded data removed]",
      "text/plain": [
       "<matplotlib.figure.Figure at 0x115d0dd8>"
      ]
     },
     "metadata": {},
     "output_type": "display_data"
    }
   ],
   "source": [
    "# Bar chart plot weighted vocabulary of top 10 characters\n",
    "\n",
    "y_pos = np.arange(len(death_sorted['season'].tolist()))\n",
    "plt.bar(y_pos, death_sorted['kenny_death'], align='center', alpha=0.5)\n",
    "plt.xticks(y_pos, death_sorted['season'].tolist(), rotation=45)\n",
    "plt.ylabel('death count')\n",
    "plt.title('How Many Times Has Kenny Died in Each Season?')\n",
    " \n",
    "plt.show()"
   ]
  },
  {
   "cell_type": "code",
   "execution_count": 126,
   "metadata": {
    "collapsed": false
   },
   "outputs": [
    {
     "name": "stdout",
     "output_type": "stream",
     "text": [
      "On average, Kenny will die 7.666666666666667 times per season\n"
     ]
    }
   ],
   "source": [
    "print('On average, Kenny will die {} times per season'.format(kenny_death['kenny_death'].mean(axis=0)))"
   ]
  },
  {
   "cell_type": "code",
   "execution_count": 127,
   "metadata": {
    "collapsed": false
   },
   "outputs": [
    {
     "name": "stdout",
     "output_type": "stream",
     "text": [
      "On average, Kenny will die 0.5369649805447471 times per episode\n"
     ]
    }
   ],
   "source": [
    "# get total number of episodes in Sounth Park and calculate Kenny's death per episode:\n",
    "episodes=len(data.groupby(['Season', 'Episode']).groups)\n",
    "print('On average, Kenny will die {} times per episode'.format(kenny_death['kenny_death'].sum(axis=0)/episodes))"
   ]
  },
  {
   "cell_type": "code",
   "execution_count": null,
   "metadata": {
    "collapsed": true
   },
   "outputs": [],
   "source": []
  }
 ],
 "metadata": {
  "kernelspec": {
   "display_name": "Python [conda root]",
   "language": "python",
   "name": "conda-root-py"
  },
  "language_info": {
   "codemirror_mode": {
    "name": "ipython",
    "version": 3
   },
   "file_extension": ".py",
   "mimetype": "text/x-python",
   "name": "python",
   "nbconvert_exporter": "python",
   "pygments_lexer": "ipython3",
   "version": "3.5.2"
  }
 },
 "nbformat": 4,
 "nbformat_minor": 1
}
